{
 "cells": [
  {
   "cell_type": "code",
   "execution_count": 1,
   "id": "afb32974",
   "metadata": {},
   "outputs": [],
   "source": [
    "import requests\n",
    "from bs4 import BeautifulSoup\n",
    "\n",
    "page = requests.get(\"https://en.wikipedia.org/wiki/Rick_and_Morty_(season_6)#Episodes\")\n",
    "soup = BeautifulSoup(page.text, \"html\")"
   ]
  },
  {
   "cell_type": "code",
   "execution_count": 31,
   "id": "22ee2114",
   "metadata": {},
   "outputs": [],
   "source": [
    "title = soup.find(\"title\").text"
   ]
  },
  {
   "cell_type": "code",
   "execution_count": 90,
   "id": "3f8822a0",
   "metadata": {},
   "outputs": [],
   "source": [
    "columns = soup.find_all(\"th\", scope=\"col\")"
   ]
  },
  {
   "cell_type": "code",
   "execution_count": 87,
   "id": "30f3868b",
   "metadata": {},
   "outputs": [
    {
     "data": {
      "text/plain": [
       "['Title',\n",
       " 'Summary',\n",
       " 'Directed by',\n",
       " 'Written by',\n",
       " 'Original air date',\n",
       " 'Prod code',\n",
       " 'U.S. viewers(millions)']"
      ]
     },
     "execution_count": 87,
     "metadata": {},
     "output_type": "execute_result"
    }
   ],
   "source": [
    "column_names = [column.text.strip() for column in columns[2:8]]\n",
    "column_names[-3] = \"Original air date\"\n",
    "column_names[-2] = \"Prod code\"\n",
    "column_names.insert(1,\"Summary\")\n",
    "column_names"
   ]
  },
  {
   "cell_type": "code",
   "execution_count": 46,
   "id": "eb865578",
   "metadata": {},
   "outputs": [],
   "source": [
    "episodes = soup.find_all(\"td\", class_=\"summary\")\n",
    "episode_names = [episode.text.strip().strip(\"\\\"\") for episode in episodes]"
   ]
  },
  {
   "cell_type": "code",
   "execution_count": 51,
   "id": "dea27eb3",
   "metadata": {},
   "outputs": [
    {
     "data": {
      "text/plain": [
       "10"
      ]
     },
     "execution_count": 51,
     "metadata": {},
     "output_type": "execute_result"
    }
   ],
   "source": [
    "summaries = soup.find_all(\"td\", class_ = \"description\")\n",
    "ep_summaries = [summary.text.strip() for summary in summaries]"
   ]
  },
  {
   "cell_type": "code",
   "execution_count": 58,
   "id": "3b5fc81d",
   "metadata": {},
   "outputs": [
    {
     "data": {
      "text/plain": [
       "['1',\n",
       " 'Jacob Hair',\n",
       " 'Albro Lundy',\n",
       " 'September\\xa04,\\xa02022\\xa0(2022-09-04)',\n",
       " 'RAM-601',\n",
       " '0.66[5]',\n",
       " '2',\n",
       " 'Kyounghee Lim',\n",
       " 'Alex Rubens',\n",
       " 'September\\xa011,\\xa02022\\xa0(2022-09-11)']"
      ]
     },
     "execution_count": 58,
     "metadata": {},
     "output_type": "execute_result"
    }
   ],
   "source": [
    "info = soup.find_all(\"td\", style = \"text-align:center\")\n",
    "information = [info.text.strip() for info in info]\n",
    "information[:10]"
   ]
  },
  {
   "cell_type": "code",
   "execution_count": 89,
   "id": "c3198260",
   "metadata": {},
   "outputs": [
    {
     "data": {
      "text/plain": [
       "['RAM-601',\n",
       " 'RAM-602',\n",
       " 'RAM-603',\n",
       " 'RAM-605',\n",
       " 'RAM-607',\n",
       " 'RAM-606',\n",
       " 'RAM-608',\n",
       " 'RAM-604',\n",
       " 'RAM-609',\n",
       " 'RAM-610']"
      ]
     },
     "execution_count": 89,
     "metadata": {},
     "output_type": "execute_result"
    }
   ],
   "source": [
    "code = soup.find_all(\"td\", id=\"pcRAM\")\n",
    "prod_code = [code.text.strip() for code in code]"
   ]
  },
  {
   "cell_type": "code",
   "execution_count": 60,
   "id": "2d0e4121",
   "metadata": {},
   "outputs": [],
   "source": [
    "director_names = []\n",
    "for x in range(1, len(information),6):\n",
    "    director_names.append(information[x])"
   ]
  },
  {
   "cell_type": "code",
   "execution_count": 63,
   "id": "02ac4ab8",
   "metadata": {},
   "outputs": [],
   "source": [
    "writer_names = []\n",
    "for x in range(2, len(information),6):\n",
    "    writer_names.append(information[x])"
   ]
  },
  {
   "cell_type": "code",
   "execution_count": 70,
   "id": "dd459b02",
   "metadata": {},
   "outputs": [],
   "source": [
    "dates = []\n",
    "for x in range(3, len(information),6):\n",
    "    split_date = information[x].split()\n",
    "    dates.append(split_date[-1].strip(\"(\").strip(\")\"))"
   ]
  },
  {
   "cell_type": "code",
   "execution_count": 95,
   "id": "a017d0c3",
   "metadata": {},
   "outputs": [
    {
     "data": {
      "text/plain": [
       "['0.66',\n",
       " '0.60',\n",
       " '0.55',\n",
       " '0.60',\n",
       " '0.58',\n",
       " '0.54',\n",
       " '0.51',\n",
       " '0.53',\n",
       " '0.53',\n",
       " '0.49']"
      ]
     },
     "execution_count": 95,
     "metadata": {},
     "output_type": "execute_result"
    }
   ],
   "source": [
    "views = []\n",
    "for x in range(5, len(information),6):\n",
    "    views.append(information[x][:4])"
   ]
  },
  {
   "cell_type": "code",
   "execution_count": 96,
   "id": "6b80154c",
   "metadata": {},
   "outputs": [],
   "source": [
    "import pandas as pd\n",
    "df = pd.DataFrame(columns=column_names)"
   ]
  },
  {
   "cell_type": "code",
   "execution_count": 106,
   "id": "6c562ae2",
   "metadata": {},
   "outputs": [],
   "source": [
    "df[\"Title\"] = episode_names"
   ]
  },
  {
   "cell_type": "code",
   "execution_count": 107,
   "id": "abe7f311",
   "metadata": {},
   "outputs": [],
   "source": [
    "df[\"Summary\"] = ep_summaries"
   ]
  },
  {
   "cell_type": "code",
   "execution_count": 108,
   "id": "c4498136",
   "metadata": {},
   "outputs": [],
   "source": [
    "df[\"Directed by\"] = director_names\n",
    "df[\"Written by\"] = writer_names\n",
    "df[\"Prod code\"] = prod_code\n",
    "df[\"U.S. viewers(millions)\"] = views\n",
    "df[\"Original air date\"] = dates\n",
    "df[\"Original air date\"] = pd.to_datetime(df[\"Original air date\"], format=\"%Y-%m-%d\")"
   ]
  },
  {
   "cell_type": "code",
   "execution_count": 109,
   "id": "c9373288",
   "metadata": {},
   "outputs": [
    {
     "data": {
      "text/html": [
       "<div>\n",
       "<style scoped>\n",
       "    .dataframe tbody tr th:only-of-type {\n",
       "        vertical-align: middle;\n",
       "    }\n",
       "\n",
       "    .dataframe tbody tr th {\n",
       "        vertical-align: top;\n",
       "    }\n",
       "\n",
       "    .dataframe thead th {\n",
       "        text-align: right;\n",
       "    }\n",
       "</style>\n",
       "<table border=\"1\" class=\"dataframe\">\n",
       "  <thead>\n",
       "    <tr style=\"text-align: right;\">\n",
       "      <th></th>\n",
       "      <th>Title</th>\n",
       "      <th>Summary</th>\n",
       "      <th>Directed by</th>\n",
       "      <th>Written by</th>\n",
       "      <th>Original air date</th>\n",
       "      <th>Prod code</th>\n",
       "      <th>U.S. viewers(millions)</th>\n",
       "    </tr>\n",
       "  </thead>\n",
       "  <tbody>\n",
       "    <tr>\n",
       "      <th>0</th>\n",
       "      <td>Solaricks</td>\n",
       "      <td>Saved from the Citadel ruins by Space Beth, Ri...</td>\n",
       "      <td>Jacob Hair</td>\n",
       "      <td>Albro Lundy</td>\n",
       "      <td>2022-09-04</td>\n",
       "      <td>RAM-601</td>\n",
       "      <td>0.66</td>\n",
       "    </tr>\n",
       "    <tr>\n",
       "      <th>1</th>\n",
       "      <td>Rick: A Mort Well Lived</td>\n",
       "      <td>Die Hard-inspired alien terrorists attack the ...</td>\n",
       "      <td>Kyounghee Lim</td>\n",
       "      <td>Alex Rubens</td>\n",
       "      <td>2022-09-11</td>\n",
       "      <td>RAM-602</td>\n",
       "      <td>0.60</td>\n",
       "    </tr>\n",
       "    <tr>\n",
       "      <th>2</th>\n",
       "      <td>Bethic Twinstinct</td>\n",
       "      <td>Space Beth comes back to celebrate Thanksgivin...</td>\n",
       "      <td>Douglas Einar Olsen</td>\n",
       "      <td>Anne Lane</td>\n",
       "      <td>2022-09-18</td>\n",
       "      <td>RAM-603</td>\n",
       "      <td>0.55</td>\n",
       "    </tr>\n",
       "    <tr>\n",
       "      <th>3</th>\n",
       "      <td>Night Family</td>\n",
       "      <td>Rick obtains an alien device called a \"somnamb...</td>\n",
       "      <td>Jacob Hair</td>\n",
       "      <td>Rob Schrab</td>\n",
       "      <td>2022-09-25</td>\n",
       "      <td>RAM-605</td>\n",
       "      <td>0.60</td>\n",
       "    </tr>\n",
       "    <tr>\n",
       "      <th>4</th>\n",
       "      <td>Final DeSmithation</td>\n",
       "      <td>Jerry receives a fortune cookie that says he i...</td>\n",
       "      <td>Douglas Einar Olsen</td>\n",
       "      <td>Heather Anne Campbell</td>\n",
       "      <td>2022-10-02</td>\n",
       "      <td>RAM-607</td>\n",
       "      <td>0.58</td>\n",
       "    </tr>\n",
       "    <tr>\n",
       "      <th>5</th>\n",
       "      <td>Juricksic Mort</td>\n",
       "      <td>A technologically advanced species of dinosaur...</td>\n",
       "      <td>Kyounghee Lim</td>\n",
       "      <td>Nick Rutherford</td>\n",
       "      <td>2022-10-09</td>\n",
       "      <td>RAM-606</td>\n",
       "      <td>0.54</td>\n",
       "    </tr>\n",
       "    <tr>\n",
       "      <th>6</th>\n",
       "      <td>Full Meta Jackrick</td>\n",
       "      <td>After venturing beyond the fourth wall into th...</td>\n",
       "      <td>Lucas Gray</td>\n",
       "      <td>Alex Rubens</td>\n",
       "      <td>2022-11-20</td>\n",
       "      <td>RAM-608</td>\n",
       "      <td>0.51</td>\n",
       "    </tr>\n",
       "    <tr>\n",
       "      <th>7</th>\n",
       "      <td>Analyze Piss</td>\n",
       "      <td>Tired of attacks from supervillains, Rick goes...</td>\n",
       "      <td>Fill Marc Sagadraca</td>\n",
       "      <td>James Siciliano</td>\n",
       "      <td>2022-11-27</td>\n",
       "      <td>RAM-604</td>\n",
       "      <td>0.53</td>\n",
       "    </tr>\n",
       "    <tr>\n",
       "      <th>8</th>\n",
       "      <td>A Rick in King Mortur's Mort</td>\n",
       "      <td>While waiting in line for food, a Knight of th...</td>\n",
       "      <td>Jacob Hair</td>\n",
       "      <td>Anne Lane</td>\n",
       "      <td>2022-12-04</td>\n",
       "      <td>RAM-609</td>\n",
       "      <td>0.53</td>\n",
       "    </tr>\n",
       "    <tr>\n",
       "      <th>9</th>\n",
       "      <td>Ricktional Mortpoon's Rickmas Mortcation</td>\n",
       "      <td>For Christmas, Rick gives Morty a working Star...</td>\n",
       "      <td>Kyounghee Lim</td>\n",
       "      <td>Scott Marder</td>\n",
       "      <td>2022-12-11</td>\n",
       "      <td>RAM-610</td>\n",
       "      <td>0.49</td>\n",
       "    </tr>\n",
       "  </tbody>\n",
       "</table>\n",
       "</div>"
      ],
      "text/plain": [
       "                                      Title  \\\n",
       "0                                 Solaricks   \n",
       "1                   Rick: A Mort Well Lived   \n",
       "2                         Bethic Twinstinct   \n",
       "3                              Night Family   \n",
       "4                        Final DeSmithation   \n",
       "5                            Juricksic Mort   \n",
       "6                        Full Meta Jackrick   \n",
       "7                              Analyze Piss   \n",
       "8              A Rick in King Mortur's Mort   \n",
       "9  Ricktional Mortpoon's Rickmas Mortcation   \n",
       "\n",
       "                                             Summary          Directed by  \\\n",
       "0  Saved from the Citadel ruins by Space Beth, Ri...           Jacob Hair   \n",
       "1  Die Hard-inspired alien terrorists attack the ...        Kyounghee Lim   \n",
       "2  Space Beth comes back to celebrate Thanksgivin...  Douglas Einar Olsen   \n",
       "3  Rick obtains an alien device called a \"somnamb...           Jacob Hair   \n",
       "4  Jerry receives a fortune cookie that says he i...  Douglas Einar Olsen   \n",
       "5  A technologically advanced species of dinosaur...        Kyounghee Lim   \n",
       "6  After venturing beyond the fourth wall into th...           Lucas Gray   \n",
       "7  Tired of attacks from supervillains, Rick goes...  Fill Marc Sagadraca   \n",
       "8  While waiting in line for food, a Knight of th...           Jacob Hair   \n",
       "9  For Christmas, Rick gives Morty a working Star...        Kyounghee Lim   \n",
       "\n",
       "              Written by Original air date Prod code  U.S. viewers(millions)  \n",
       "0            Albro Lundy        2022-09-04   RAM-601                    0.66  \n",
       "1            Alex Rubens        2022-09-11   RAM-602                    0.60  \n",
       "2              Anne Lane        2022-09-18   RAM-603                    0.55  \n",
       "3             Rob Schrab        2022-09-25   RAM-605                    0.60  \n",
       "4  Heather Anne Campbell        2022-10-02   RAM-607                    0.58  \n",
       "5        Nick Rutherford        2022-10-09   RAM-606                    0.54  \n",
       "6            Alex Rubens        2022-11-20   RAM-608                    0.51  \n",
       "7        James Siciliano        2022-11-27   RAM-604                    0.53  \n",
       "8              Anne Lane        2022-12-04   RAM-609                    0.53  \n",
       "9           Scott Marder        2022-12-11   RAM-610                    0.49  "
      ]
     },
     "execution_count": 109,
     "metadata": {},
     "output_type": "execute_result"
    }
   ],
   "source": [
    "df[\"U.S. viewers(millions)\"] = df[\"U.S. viewers(millions)\"].astype(\"float32\") \n",
    "df"
   ]
  },
  {
   "cell_type": "code",
   "execution_count": null,
   "id": "4c42689b",
   "metadata": {},
   "outputs": [],
   "source": []
  }
 ],
 "metadata": {
  "kernelspec": {
   "display_name": "Python 3 (ipykernel)",
   "language": "python",
   "name": "python3"
  },
  "language_info": {
   "codemirror_mode": {
    "name": "ipython",
    "version": 3
   },
   "file_extension": ".py",
   "mimetype": "text/x-python",
   "name": "python",
   "nbconvert_exporter": "python",
   "pygments_lexer": "ipython3",
   "version": "3.11.4"
  }
 },
 "nbformat": 4,
 "nbformat_minor": 5
}
